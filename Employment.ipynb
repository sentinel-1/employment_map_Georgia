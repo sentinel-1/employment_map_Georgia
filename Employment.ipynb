{
 "cells": [
  {
   "cell_type": "markdown",
   "id": "5effd966-5be0-4a12-ba72-6e4404678939",
   "metadata": {},
   "source": [
    "# Employment Map of Georgia by Regions\n",
    "\n",
    "A choropleth map of employment by regions in Georgia."
   ]
  },
  {
   "cell_type": "code",
   "execution_count": 1,
   "id": "0ac5df1f-a164-4dd9-8aff-792fbbe85e9d",
   "metadata": {},
   "outputs": [
    {
     "data": {
      "text/html": [
       "<img alt=\"Map of Employment\" src=\"map.png\"></img>"
      ],
      "text/plain": [
       "<IPython.core.display.HTML object>"
      ]
     },
     "metadata": {},
     "output_type": "display_data"
    }
   ],
   "source": [
    "from IPython.display import display, HTML\n",
    "\n",
    "display(HTML(\"\"\"<img alt=\"Map of Employment\" src=\"map.png\"></img>\"\"\"))"
   ]
  },
  {
   "cell_type": "markdown",
   "id": "4886c9c4-2949-40e1-8b7f-6f72524ad80a",
   "metadata": {
    "tags": []
   },
   "source": [
    "# Employment by Regions in Georgia\n",
    "\n",
    "Purpose of this notebook is to create a **map of Georgia** with colors reflecting a statistic of employment by regions. For this purpose, the `coolwarm` colormap is used, so that regions with statistically less employment will appear in cooler colors on the map and the regions with statistically higher employment will appear in warmer colors. The exact meaning of each color is explained in the legend placed next to the map itself. See the resulting map in the beggining of this notebook. \n",
    "\n",
    "Data sources:\n",
    "- Statistical data of the Labour Force Indicators by Regions of Georgia is retrieved on Jun 1, 2022 from the website of the National Statistics Office of Georgia: [geostat.ge](https://www.geostat.ge/en/)\n",
    "- Map data of the borders of the administrative areas of Georgia (GADM data v4.0 for Georgia in `Shapefile` format) is retrieved on Jun 1, 2022 from the GADM website: [gadm.org](https://gadm.org)"
   ]
  },
  {
   "cell_type": "code",
   "execution_count": 2,
   "id": "5c30cc8e-9518-4d01-b213-49388163b716",
   "metadata": {},
   "outputs": [
    {
     "name": "stdout",
     "output_type": "stream",
     "text": [
      "\n",
      "Notebook START time: 2022-08-14 06:13:59.213870 UTC\n",
      "\n"
     ]
    }
   ],
   "source": [
    "from datetime import datetime, timedelta\n",
    "nb_st = datetime.utcnow()\n",
    "print(f\"\\nNotebook START time: {nb_st} UTC\\n\")"
   ]
  },
  {
   "cell_type": "code",
   "execution_count": 3,
   "id": "7970695f-7fa0-45f5-8b4b-434ea15a5289",
   "metadata": {},
   "outputs": [
    {
     "data": {
      "text/html": [
       "<style>\n",
       "@media (max-width: 540px) {\n",
       "  .output .output_subarea {\n",
       "    max-width: 100%;\n",
       "  }\n",
       "}\n",
       "</style>\n",
       "<script>\n",
       "  function code_toggle() {\n",
       "    if (code_shown){\n",
       "      $('div.input').hide('500');\n",
       "      $('#toggleButton').val('🔎 Show Python Code')\n",
       "    } else {\n",
       "      $('div.input').show('500');\n",
       "      $('#toggleButton').val('⌦ Hide Python Code')\n",
       "    }\n",
       "    code_shown = !code_shown\n",
       "  }\n",
       "\n",
       "  $( document ).ready(function(){\n",
       "    code_shown=false;\n",
       "    $('div.input').hide();\n",
       "    $('div.input:contains(\"%%HTML\")').removeClass( \"input\")\n",
       "    $('div.input:contains(\"%%capture\")').removeClass(\"input\")\n",
       "  });\n",
       "</script>\n",
       "<form action=\"javascript:code_toggle()\">\n",
       "  <input type=\"submit\" id=\"toggleButton\" value=\"🔎 Show Python Code\"\n",
       "         class=\"btn btn-default btn-lg\">\n",
       "</form>\n"
      ],
      "text/plain": [
       "<IPython.core.display.HTML object>"
      ]
     },
     "metadata": {},
     "output_type": "display_data"
    }
   ],
   "source": [
    "%%HTML\n",
    "<style>\n",
    "@media (max-width: 540px) {\n",
    "  .output .output_subarea {\n",
    "    max-width: 100%;\n",
    "  }\n",
    "}\n",
    "</style>\n",
    "<script>\n",
    "  function code_toggle() {\n",
    "    if (code_shown){\n",
    "      $('div.input').hide('500');\n",
    "      $('#toggleButton').val('🔎 Show Python Code')\n",
    "    } else {\n",
    "      $('div.input').show('500');\n",
    "      $('#toggleButton').val('⌦ Hide Python Code')\n",
    "    }\n",
    "    code_shown = !code_shown\n",
    "  }\n",
    "\n",
    "  $( document ).ready(function(){\n",
    "    code_shown=false;\n",
    "    $('div.input').hide();\n",
    "    $('div.input:contains(\"%%HTML\")').removeClass( \"input\")\n",
    "    $('div.input:contains(\"%%capture\")').removeClass(\"input\")\n",
    "  });\n",
    "</script>\n",
    "<form action=\"javascript:code_toggle()\">\n",
    "  <input type=\"submit\" id=\"toggleButton\" value=\"🔎 Show Python Code\"\n",
    "         class=\"btn btn-default btn-lg\">\n",
    "</form>"
   ]
  },
  {
   "cell_type": "code",
   "execution_count": 4,
   "id": "e1779e32-0b6d-4e73-9a47-c410452269d3",
   "metadata": {},
   "outputs": [],
   "source": [
    "import pandas as pd\n",
    "import matplotlib.pyplot as plt\n",
    "import geopandas"
   ]
  },
  {
   "cell_type": "code",
   "execution_count": 5,
   "id": "ffb57ca8-2f26-40aa-a91e-054a9200b38f",
   "metadata": {},
   "outputs": [],
   "source": [
    "VERBOSE=False"
   ]
  },
  {
   "cell_type": "code",
   "execution_count": 6,
   "id": "d055f019-8959-4c65-a224-2e45fddecf74",
   "metadata": {},
   "outputs": [],
   "source": [
    "DATA_FILE_PATH = \"data/05-Labour-Force-Indicators-by-regions.xlsx\"\n",
    "\n",
    "\n",
    "def read_employment_data_of_year(\n",
    "        year: int,\n",
    "        target_feature: str,\n",
    "        excel_path: str = DATA_FILE_PATH) -> pd.DataFrame:\n",
    "    df = pd.read_excel(excel_path)\n",
    "    df = df.loc[df.index >= df.loc[df.iloc[:,0] == year].index.item()]\n",
    "    col_names = df.head(2).tail(1).values\n",
    "    df = df.loc[df.iloc[:,0] == target_feature].head(1)\n",
    "    df.columns = col_names[0]\n",
    "    df = df.T.reset_index()\n",
    "    df.columns = ['Region', target_feature]\n",
    "    df = df.dropna()\n",
    "    df = df.sort_values(by=target_feature, ascending=True)\n",
    "    return df.reset_index(drop=True)"
   ]
  },
  {
   "cell_type": "code",
   "execution_count": 7,
   "id": "2135fbb6-1a50-46a1-9e72-30202bc45e4f",
   "metadata": {},
   "outputs": [
    {
     "name": "stdout",
     "output_type": "stream",
     "text": [
      "\n",
      "Data for 2021 year:\n",
      "\n"
     ]
    },
    {
     "data": {
      "text/html": [
       "<div>\n",
       "<style scoped>\n",
       "    .dataframe tbody tr th:only-of-type {\n",
       "        vertical-align: middle;\n",
       "    }\n",
       "\n",
       "    .dataframe tbody tr th {\n",
       "        vertical-align: top;\n",
       "    }\n",
       "\n",
       "    .dataframe thead th {\n",
       "        text-align: right;\n",
       "    }\n",
       "</style>\n",
       "<table border=\"1\" class=\"dataframe\">\n",
       "  <thead>\n",
       "    <tr style=\"text-align: right;\">\n",
       "      <th></th>\n",
       "      <th>Region</th>\n",
       "      <th>Hired</th>\n",
       "    </tr>\n",
       "  </thead>\n",
       "  <tbody>\n",
       "    <tr>\n",
       "      <th>0</th>\n",
       "      <td>Racha-Lechkhumi and Kvemo-Svaneti</td>\n",
       "      <td>7.102363</td>\n",
       "    </tr>\n",
       "    <tr>\n",
       "      <th>1</th>\n",
       "      <td>Guria</td>\n",
       "      <td>17.835517</td>\n",
       "    </tr>\n",
       "    <tr>\n",
       "      <th>2</th>\n",
       "      <td>Mtskheta-Mtianeti</td>\n",
       "      <td>21.370056</td>\n",
       "    </tr>\n",
       "    <tr>\n",
       "      <th>3</th>\n",
       "      <td>Samtskhe-Javakheti</td>\n",
       "      <td>30.006213</td>\n",
       "    </tr>\n",
       "    <tr>\n",
       "      <th>4</th>\n",
       "      <td>Shida Kartli</td>\n",
       "      <td>51.550302</td>\n",
       "    </tr>\n",
       "    <tr>\n",
       "      <th>5</th>\n",
       "      <td>Kakheti</td>\n",
       "      <td>56.537744</td>\n",
       "    </tr>\n",
       "    <tr>\n",
       "      <th>6</th>\n",
       "      <td>Samegrelo-Zemo Svaneti</td>\n",
       "      <td>58.569218</td>\n",
       "    </tr>\n",
       "    <tr>\n",
       "      <th>7</th>\n",
       "      <td>Kvemo Kartli</td>\n",
       "      <td>76.423655</td>\n",
       "    </tr>\n",
       "    <tr>\n",
       "      <th>8</th>\n",
       "      <td>Adjara A/R</td>\n",
       "      <td>80.63719</td>\n",
       "    </tr>\n",
       "    <tr>\n",
       "      <th>9</th>\n",
       "      <td>Imereti</td>\n",
       "      <td>101.9573</td>\n",
       "    </tr>\n",
       "    <tr>\n",
       "      <th>10</th>\n",
       "      <td>Tbilisi</td>\n",
       "      <td>327.399199</td>\n",
       "    </tr>\n",
       "    <tr>\n",
       "      <th>11</th>\n",
       "      <td>Georgia</td>\n",
       "      <td>829.388758</td>\n",
       "    </tr>\n",
       "  </tbody>\n",
       "</table>\n",
       "</div>"
      ],
      "text/plain": [
       "                               Region       Hired\n",
       "0   Racha-Lechkhumi and Kvemo-Svaneti    7.102363\n",
       "1                               Guria   17.835517\n",
       "2                   Mtskheta-Mtianeti   21.370056\n",
       "3                  Samtskhe-Javakheti   30.006213\n",
       "4                        Shida Kartli   51.550302\n",
       "5                             Kakheti   56.537744\n",
       "6              Samegrelo-Zemo Svaneti   58.569218\n",
       "7                        Kvemo Kartli   76.423655\n",
       "8                          Adjara A/R    80.63719\n",
       "9                             Imereti    101.9573\n",
       "10                            Tbilisi  327.399199\n",
       "11                            Georgia  829.388758"
      ]
     },
     "metadata": {},
     "output_type": "display_data"
    }
   ],
   "source": [
    "features_available = [\n",
    "    'Total 15 + population',  # 0\n",
    "    'Labour force',  # 1\n",
    "    'Employed',  # 2\n",
    "    'Hired',  # 3\n",
    "    'Self-employed',  # 4\n",
    "    'Not-identified worker',  # 5\n",
    "    'Unemployed',  # 6\n",
    "    'Population outside labour force',  # 7\n",
    "]\n",
    "year, target_feature = 2021, features_available[3]\n",
    "df = read_employment_data_of_year(year, target_feature)\n",
    "print(f\"\\nData for {year} year:\\n\")\n",
    "display(df)"
   ]
  },
  {
   "cell_type": "code",
   "execution_count": 8,
   "id": "1d6de1bc-de63-4470-a61e-5c02878916b9",
   "metadata": {},
   "outputs": [
    {
     "data": {
      "image/png": "[encoded data removed]",
      "text/plain": [
       "<Figure size 1296x648 with 1 Axes>"
      ]
     },
     "metadata": {
      "needs_background": "light"
     },
     "output_type": "display_data"
    }
   ],
   "source": [
    "plt.figure(figsize=(18,9))\n",
    "plt.barh(\n",
    "    data=df.loc[df['Region'] !='Georgia'],\n",
    "    y='Region',\n",
    "    width=target_feature,\n",
    ")\n",
    "plt.title(f'{year} - {target_feature} by Regions in Georgia',\n",
    "          fontdict={\n",
    "              'fontsize': 16,\n",
    "              'fontweight': 'bold',\n",
    "              'color': '#444444',\n",
    "              'verticalalignment': 'baseline',\n",
    "              'horizontalalignment': 'center',\n",
    "          })\n",
    "plt.xlabel('Thousand Persons')\n",
    "plt.show()"
   ]
  },
  {
   "cell_type": "code",
   "execution_count": 9,
   "id": "42e5334c-87df-4121-90a4-bb9d565a18cc",
   "metadata": {},
   "outputs": [],
   "source": [
    "ADMINISTRATIVE_BORDERS_FILE_PATH = 'data/GADM/gadm40_GEO_shp/gadm40_GEO_1.shp'\n",
    "\n",
    "Georgia_geodf = geopandas.read_file(ADMINISTRATIVE_BORDERS_FILE_PATH)"
   ]
  },
  {
   "cell_type": "code",
   "execution_count": 10,
   "id": "fca4a01f-c44c-42da-8199-040a144f3f77",
   "metadata": {},
   "outputs": [],
   "source": [
    "if VERBOSE:\n",
    "    print(Georgia_geodf['NAME_1'].unique())"
   ]
  },
  {
   "cell_type": "code",
   "execution_count": 11,
   "id": "0b0dee6c-4484-45bb-89a6-16484983f067",
   "metadata": {},
   "outputs": [],
   "source": [
    "if VERBOSE:\n",
    "    print('Check if there is any mismatch in region names '\n",
    "          'between data and map:')\n",
    "    df.set_index('Region').index.difference(Georgia_geodf['NAME_1'].unique())"
   ]
  },
  {
   "cell_type": "code",
   "execution_count": 12,
   "id": "df7e206b-2cc7-43d3-b064-24aa7b11c1fa",
   "metadata": {},
   "outputs": [],
   "source": [
    "if VERBOSE:\n",
    "    print('Resolving name mismatch detected earlier '\n",
    "          'in order to connect employment data to map data...')\n",
    "\n",
    "df = df.replace(\n",
    "    {\n",
    "        'Adjara A/R': 'Ajaria',\n",
    "        'Racha-Lechkhumi and Kvemo-Svaneti': 'Racha-Lechkhumi-Kvemo Svaneti',\n",
    "    })"
   ]
  },
  {
   "cell_type": "code",
   "execution_count": 13,
   "id": "f82d1532-12d2-4929-8357-df6a117be741",
   "metadata": {},
   "outputs": [],
   "source": [
    "if VERBOSE:\n",
    "    print('Checking if mismatch is resolved (expecting no region names):')\n",
    "    df.set_index('Region').index.difference(Georgia_geodf['NAME_1'].unique())"
   ]
  },
  {
   "cell_type": "code",
   "execution_count": 14,
   "id": "6163c808-1fc3-4149-98a9-e9541b72185f",
   "metadata": {},
   "outputs": [],
   "source": [
    "merged_geodf = Georgia_geodf.merge(df,\n",
    "                                   left_on='NAME_1',\n",
    "                                   right_on='Region',\n",
    "                                   how='left').fillna(0)\n",
    "\n",
    "if VERBOSE:\n",
    "    print(\"Map data with statistics for the \"\n",
    "          f\"{len(Georgia_geodf['NAME_1'].unique())} regions of Georgia \"\n",
    "          \"is ready.\")"
   ]
  },
  {
   "cell_type": "code",
   "execution_count": 15,
   "id": "0a592aca-472f-4a72-bdf4-36806df1d144",
   "metadata": {},
   "outputs": [],
   "source": [
    "ax = merged_geodf.plot(\n",
    "    column=target_feature,\n",
    "    scheme=\"Quantiles\",\n",
    "    figsize=(18, 9),\n",
    "    legend=True,\n",
    "    legend_kwds = {\"fmt\": \"{:.1f}\", \"title\": \"Thousand Persons\"},\n",
    "    cmap='coolwarm',\n",
    ")\n",
    "plt.gca().set_axis_off()\n",
    "plt.title(f'{year} - {target_feature} by Regions in Georgia',\n",
    "          fontdict={\n",
    "              'fontsize': 16,\n",
    "              'fontweight': 'bold',\n",
    "              'color': '#444444',\n",
    "              'verticalalignment': 'baseline',\n",
    "              'horizontalalignment': 'center'\n",
    "          })\n",
    "plt.tight_layout()\n",
    "\n",
    "##\n",
    "# Instead of displaying here save the map as `map.png` image file\n",
    "# in order to display in the beggining of this notebook.\n",
    "# FIXME: This approach may require 2x run of notebook to update the map\n",
    "##\n",
    "plt.gcf().savefig(\"map.png\")\n",
    "\n",
    "\n",
    "\n",
    "# plt.show()\n",
    "\n",
    "\n",
    "plt.close()\n",
    "pass"
   ]
  },
  {
   "cell_type": "code",
   "execution_count": 16,
   "id": "adda1091-7c9f-440a-9218-bc3d9a3b1d85",
   "metadata": {},
   "outputs": [
    {
     "name": "stdout",
     "output_type": "stream",
     "text": [
      "\n",
      " ** Total Elapsed time: 0:00:01.534320 ** \n",
      "\n",
      "Notebook END time: 2022-08-14 06:14:00.748248 UTC\n",
      "\n"
     ]
    }
   ],
   "source": [
    "print(f\"\\n ** Total Elapsed time: {datetime.utcnow() - nb_st} ** \\n\")\n",
    "print(f\"Notebook END time: {datetime.utcnow()} UTC\\n\")"
   ]
  },
  {
   "cell_type": "code",
   "execution_count": 17,
   "id": "585767af-6734-4212-b51c-3ea78c17c7e5",
   "metadata": {},
   "outputs": [],
   "source": [
    "%%capture\n",
    "%mkdir OGP_classic"
   ]
  },
  {
   "cell_type": "code",
   "execution_count": 18,
   "id": "6a61de58-4ff0-469b-bb25-2e90458f1982",
   "metadata": {},
   "outputs": [],
   "source": [
    "%%capture\n",
    "%%file \"OGP_classic/conf.json\"\n",
    "{\n",
    "  \"base_template\": \"classic\",\n",
    "  \"preprocessors\": {\n",
    "    \"500-metadata\": {\n",
    "      \"type\": \"nbconvert.preprocessors.ClearMetadataPreprocessor\",\n",
    "      \"enabled\": true,\n",
    "      \"clear_notebook_metadata\": true,\n",
    "      \"clear_cell_metadata\": true\n",
    "    },\n",
    "    \"900-files\": {\n",
    "      \"type\": \"nbconvert.preprocessors.ExtractOutputPreprocessor\",\n",
    "      \"enabled\": true\n",
    "    }\n",
    "  }\n",
    "}"
   ]
  },
  {
   "cell_type": "code",
   "execution_count": 19,
   "id": "09469c12-0851-4ba5-8b6b-66b9bea1ce94",
   "metadata": {},
   "outputs": [],
   "source": [
    "%%capture\n",
    "%%file \"OGP_classic/index.html.j2\"\n",
    "{%- extends 'classic/index.html.j2' -%}\n",
    "{%- block html_head -%}\n",
    "\n",
    "{#  OGP attributes for shareability #}\n",
    "<meta property=\"og:url\"          content=\"https://sentinel-1.github.io/employment_map_Georgia/\" />\n",
    "<meta property=\"og:type\"         content=\"article\" />\n",
    "<meta property=\"og:title\"        content=\"Employment Map of Georgia by Regions\" />\n",
    "<meta property=\"og:description\"  content=\"Visualized Statistics of Employment in Georgia by regions\" />\n",
    "<meta property=\"og:image\"        content=\"https://raw.githubusercontent.com/sentinel-1/employment_map_Georgia/master/map.png\" />\n",
    "<meta property=\"og:image:alt\"    content=\"Map of Employment\" />\n",
    "<meta property=\"og:image:type\"   content=\"image/png\" />\n",
    "<meta property=\"og:image:width\"  content=\"1296\" />\n",
    "<meta property=\"og:image:height\" content=\"648\" />\n",
    "\n",
    "<meta property=\"article:published_time\" content=\"2022-06-02T14:25:20+00:00\" />\n",
    "<meta property=\"article:modified_time\"  content=\"{{ resources.iso8610_datetime_utcnow }}\" />\n",
    "<meta property=\"article:publisher\"      content=\"https://sentinel-1.github.io\" />\n",
    "<meta property=\"article:author\"         content=\"https://github.com/sentinel-1\" />\n",
    "<meta property=\"article:section\"        content=\"datascience\" />\n",
    "<meta property=\"article:tag\"            content=\"datascience\" />\n",
    "<meta property=\"article:tag\"            content=\"geospatialdata\" />\n",
    "<meta property=\"article:tag\"            content=\"Python\" />\n",
    "<meta property=\"article:tag\"            content=\"data\" />\n",
    "<meta property=\"article:tag\"            content=\"analytics\" />\n",
    "<meta property=\"article:tag\"            content=\"datavisualization\" />\n",
    "<meta property=\"article:tag\"            content=\"bigdataunit\" />\n",
    "<meta property=\"article:tag\"            content=\"visualization\" />\n",
    "<meta property=\"article:tag\"            content=\"employment\" />\n",
    "<meta property=\"article:tag\"            content=\"Georgia\" />\n",
    "\n",
    "\n",
    "{{ super() }}\n",
    "\n",
    "{%- endblock html_head -%}\n",
    "\n",
    "\n",
    "{% block body_header %}\n",
    "<body>\n",
    "\n",
    "<div class=\"container\">\n",
    "  <nav class=\"navbar navbar-default\">\n",
    "    <div class=\"container-fluid\">\n",
    "      <ul class=\"nav nav-pills  navbar-left\">\n",
    "        <li role=\"presentation\">\n",
    "          <a href=\"/\">\n",
    "            <svg xmlns=\"http://www.w3.org/2000/svg\"\n",
    "                 viewBox=\"0 0 576 512\" width=\"1em\">\n",
    "              <path \n",
    "                fill=\"#999999\"\n",
    "d=\"M 288,0 574,288 511,288 511,511 352,511 352,352 223,352 223,511 62,511 64,288 0,288 Z\"\n",
    "              />\n",
    "            </svg> Home\n",
    "          </a>\n",
    "        </li>\n",
    "      </ul>\n",
    "      <ul class=\"nav nav-pills  navbar-right\">\n",
    "        <li role=\"presentation\" class=\"active\">\n",
    "          <a href=\"/employment_map_Georgia/\">🇬🇧 English </a>\n",
    "        </li>\n",
    "        <li role=\"presentation\">\n",
    "          <a href=\"/employment_map_Georgia/ka/\">🇬🇪 ქართული</a>\n",
    "        </li>\n",
    "      </ul>\n",
    "    </div>\n",
    "  </nav>\n",
    "</div>\n",
    "\n",
    "\n",
    "\n",
    "  <div tabindex=\"-1\" id=\"notebook\" class=\"border-box-sizing\">\n",
    "    <div class=\"container\" id=\"notebook-container\">    \n",
    "{% endblock body_header %}\n",
    "\n",
    "{% block body_footer %}\n",
    "    </div>\n",
    "  </div>\n",
    "  <footer>\n",
    "    <div class=\"container\"\n",
    "         style=\"display:flex; flex-direction: row; justify-content: center; align-items: center;\">\n",
    "      <p style=\"margin: 3.7em auto;\"> © 2022\n",
    "        <a href=\"https://github.com/sentinel-1\" target=\"_blank\">Sentinel-1</a>\n",
    "      </p>\n",
    "      <!-- TOP.GE ASYNC COUNTER CODE -->\n",
    "      <div id=\"top-ge-counter-container\" data-site-id=\"116052\"\n",
    "           style=\"margin-right: 3.7em;float: right;\"></div>\n",
    "      <script async src=\"//counter.top.ge/counter.js\"></script>\n",
    "      <!-- / END OF TOP.GE COUNTER CODE -->\n",
    "      <!-- ANALYTICS.LAGOGAL.COM -->\n",
    "      <div id=\"analytics-lagogal-com-access\" data-site-id=\"20221\"\n",
    "           style=\"margin: 0;padding: 0;\"></div>\n",
    "      <script async src=\"//analytics.lagogal.com/access.js\"></script>\n",
    "      <!-- / END OF ANALYTICS.LAGOGAL.COM -->\n",
    "     </div>\n",
    "  </footer>\n",
    "</body>\n",
    "{% endblock body_footer %}"
   ]
  },
  {
   "cell_type": "markdown",
   "id": "4d3afa0f-2a1e-4b2a-aaaa-ee9d23ecc865",
   "metadata": {},
   "source": [
    "\n",
    "*This notebook is originally published under the Apache License (Version 2.0) at the following GitHub repository: [sentinel-1/employment_map_Georgia](https://github.com/sentinel-1/employment_map_Georgia)*\n",
    "\n",
    "For the issues, feedback or suggestions regarding the original notebook (if any) feel free to open an issue at the corresponding [Issues page of the repository](https://github.com/sentinel-1/employment_map_Georgia/issues)"
   ]
  }
 ],
 "metadata": {
  "kernelspec": {
   "display_name": "Python 3 (ipykernel)",
   "language": "python",
   "name": "python3"
  },
  "language_info": {
   "codemirror_mode": {
    "name": "ipython",
    "version": 3
   },
   "file_extension": ".py",
   "mimetype": "text/x-python",
   "name": "python",
   "nbconvert_exporter": "python",
   "pygments_lexer": "ipython3",
   "version": "3.9.2"
  }
 },
 "nbformat": 4,
 "nbformat_minor": 5
}
