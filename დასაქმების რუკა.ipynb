{
 "cells": [
  {
   "cell_type": "markdown",
   "id": "5effd966-5be0-4a12-ba72-6e4404678939",
   "metadata": {
    "tags": []
   },
   "source": [
    "# საქართველოს დასაქმების რუკა რეგიონების მიხედვით\n",
    "\n",
    "სტატისტიკური რუკა რომელიც გვიჩვენებს დასაქმებულთა რაოდენობას რეგიონების მიხედვით (რაც ასევე მიგვითითებს თუ სად არის სამუშაო ადგილები)."
   ]
  },
  {
   "cell_type": "code",
   "execution_count": 1,
   "id": "0ac5df1f-a164-4dd9-8aff-792fbbe85e9d",
   "metadata": {},
   "outputs": [
    {
     "data": {
      "text/html": [
       "<img alt=\"დასაქმების რუკა\" src=\"map.png\"></img>"
      ],
      "text/plain": [
       "<IPython.core.display.HTML object>"
      ]
     },
     "metadata": {},
     "output_type": "display_data"
    }
   ],
   "source": [
    "from IPython.display import display, HTML\n",
    "\n",
    "display(HTML(\"\"\"<img alt=\"დასაქმების რუკა\" src=\"map.png\"></img>\"\"\"))"
   ]
  },
  {
   "cell_type": "markdown",
   "id": "4886c9c4-2949-40e1-8b7f-6f72524ad80a",
   "metadata": {
    "tags": []
   },
   "source": [
    "# დასაქმება საქართველოში რეგიონების მიხედვით\n",
    "\n",
    "ფერების ზუსტი მნიშვნელობები მითითებულია რუკის გამოსახულების ზედა მარჯვენა კუთხეში (რაოდენობა ათასებშია) და თითოეული ფერის გასწვრივ მითითებული რიცხვები გვეუბნება შუალედებს, თუ რომელი ფერი რამდენ ათას დასაქმებულს გამოხატავს. სტატისტიკური მონაცემებისათვის ფერების შეხამება შესრულებულია `coolwarm` colormap-ის გამოყენებით, რაც იმას ნიშნავს, რომ უფრო თბილი ფერები შეესაბამება რეგიონებს სადაც სტატისტიკურად უფრო მაღალი დასაქმებაა (რაც უფრო თბილი ფერია, დასაქმებულების/სამუშაო ადგილების რაოდენობაც უფრო მაღალია), ხოლო ცივი ფერები კი პირიქით, შეესაბამება სტატისტიკურად დაბალ დასაქმებას (შესაბამისად ნაკლები რაოდენობის დასაქმებულს და ნაკლებ სამუშაო ადგილებს). მოცემული რუკის გამოსახულების შექმნისათვის გამოყენებული Python-კოდი სრულიად ღია სახით შეგიძლიათ იხილოთ ამავე დოკუმენტის [ინგლისურენოვან ვერსიაში](../).\n",
    "\n",
    "\n",
    "\n",
    "გამოყენებული მონაცემები:\n",
    "- სტატისტიკური მონაცემები რეგიონების მიხედვით სამუშაო ძალის მაჩვენებლების შესახებ მოპოვებულია 2022 წლის 1 ივნისს საქართველოს სტატისტიკის ეროვნული სამსახურის (საქსტატის) ვებსაიტიდან: [geostat.ge](https://www.geostat.ge/ka/)\n",
    "\n",
    "- რუკის მონაცემები საქართველოს რეგიონების ადმინისტრაციული საზღვრების შესახებ (GADM data v4.0 for Georgia in `Shapefile` format) მოპოვებულია 2022 წლის 1 ივნისს GADM-ის ვებსაიტიდან: [gadm.org](https://gadm.org)\n"
   ]
  },
  {
   "cell_type": "code",
   "execution_count": 2,
   "id": "7970695f-7fa0-45f5-8b4b-434ea15a5289",
   "metadata": {},
   "outputs": [
    {
     "data": {
      "text/html": [
       "<style>\n",
       "@media (max-width: 540px) {\n",
       "  .output .output_subarea {\n",
       "    max-width: 100%;\n",
       "  }\n",
       "}\n",
       "</style>\n",
       "<script>\n",
       "  $( document ).ready(function(){\n",
       "    $('div.input').hide();\n",
       "  });\n",
       "</script>\n"
      ],
      "text/plain": [
       "<IPython.core.display.HTML object>"
      ]
     },
     "metadata": {},
     "output_type": "display_data"
    }
   ],
   "source": [
    "%%HTML\n",
    "<style>\n",
    "@media (max-width: 540px) {\n",
    "  .output .output_subarea {\n",
    "    max-width: 100%;\n",
    "  }\n",
    "}\n",
    "</style>\n",
    "<script>\n",
    "  $( document ).ready(function(){\n",
    "    $('div.input').hide();\n",
    "  });\n",
    "</script>"
   ]
  },
  {
   "cell_type": "code",
   "execution_count": 3,
   "id": "585767af-6734-4212-b51c-3ea78c17c7e5",
   "metadata": {},
   "outputs": [],
   "source": [
    "%%capture\n",
    "%mkdir OGP_classic_ka"
   ]
  },
  {
   "cell_type": "code",
   "execution_count": 4,
   "id": "6a61de58-4ff0-469b-bb25-2e90458f1982",
   "metadata": {},
   "outputs": [],
   "source": [
    "%%capture\n",
    "%%file \"OGP_classic_ka/conf.json\"\n",
    "{\n",
    "  \"base_template\": \"classic\",\n",
    "  \"preprocessors\": {\n",
    "    \"500-metadata\": {\n",
    "      \"type\": \"nbconvert.preprocessors.ClearMetadataPreprocessor\",\n",
    "      \"enabled\": true,\n",
    "      \"clear_notebook_metadata\": true,\n",
    "      \"clear_cell_metadata\": true\n",
    "    },\n",
    "    \"900-files\": {\n",
    "      \"type\": \"nbconvert.preprocessors.ExtractOutputPreprocessor\",\n",
    "      \"enabled\": true\n",
    "    }\n",
    "  }\n",
    "}"
   ]
  },
  {
   "cell_type": "code",
   "execution_count": 5,
   "id": "09469c12-0851-4ba5-8b6b-66b9bea1ce94",
   "metadata": {},
   "outputs": [],
   "source": [
    "%%capture\n",
    "%%file \"OGP_classic_ka/index.html.j2\"\n",
    "{%- extends 'classic/index.html.j2' -%}\n",
    "{%- block html_head -%}\n",
    "\n",
    "{#  OGP attributes for shareability #}\n",
    "<meta property=\"og:url\"          content=\"https://sentinel-1.github.io/employment_map_Georgia/\" />\n",
    "<meta property=\"og:type\"         content=\"article\" />\n",
    "<meta property=\"og:title\"        content=\"საქართველოს დასაქმების რუკა რეგიონების მიხედვით\" />\n",
    "<meta property=\"og:description\"  content=\"სად არის სამუშაო ადგილები საქართველოში?\" />\n",
    "<meta property=\"og:image\"        content=\"https://raw.githubusercontent.com/sentinel-1/employment_map_Georgia/master/map.png\" />\n",
    "<meta property=\"og:image:alt\"    content=\"დასაქმების რუკა\" />\n",
    "<meta property=\"og:image:type\"   content=\"image/png\" />\n",
    "<meta property=\"og:image:width\"  content=\"1296\" />\n",
    "<meta property=\"og:image:height\" content=\"648\" />\n",
    "\n",
    "<meta property=\"article:published_time\" content=\"2022-08-14T06:18:45+00:00\" />\n",
    "<meta property=\"article:modified_time\"  content=\"{{ resources.iso8610_datetime_utcnow }}\" />\n",
    "<meta property=\"article:publisher\"      content=\"https://sentinel-1.github.io\" />\n",
    "<meta property=\"article:author\"         content=\"https://github.com/sentinel-1\" />\n",
    "<meta property=\"article:section\"        content=\"datascience\" />\n",
    "<meta property=\"article:tag\"            content=\"datascience\" />\n",
    "<meta property=\"article:tag\"            content=\"geospatialdata\" />\n",
    "<meta property=\"article:tag\"            content=\"Python\" />\n",
    "<meta property=\"article:tag\"            content=\"data\" />\n",
    "<meta property=\"article:tag\"            content=\"analytics\" />\n",
    "<meta property=\"article:tag\"            content=\"datavisualization\" />\n",
    "<meta property=\"article:tag\"            content=\"bigdataunit\" />\n",
    "<meta property=\"article:tag\"            content=\"visualization\" />\n",
    "<meta property=\"article:tag\"            content=\"employment\" />\n",
    "<meta property=\"article:tag\"            content=\"Georgia\" />\n",
    "\n",
    "\n",
    "{{ super() }}\n",
    "\n",
    "{%- endblock html_head -%}\n",
    "\n",
    "\n",
    "{% block body_header %}\n",
    "<body>\n",
    "\n",
    "<div class=\"container\">\n",
    "  <nav class=\"navbar navbar-default\">\n",
    "    <div class=\"container-fluid\">\n",
    "      <ul class=\"nav nav-pills  navbar-left\">\n",
    "        <li role=\"presentation\">\n",
    "          <a href=\"/ka/\">\n",
    "            <svg xmlns=\"http://www.w3.org/2000/svg\"\n",
    "                 viewBox=\"0 0 576 512\" width=\"1em\">\n",
    "              <path \n",
    "                fill=\"#999999\"\n",
    "d=\"M 288,0 574,288 511,288 511,511 352,511 352,352 223,352 223,511 62,511 64,288 0,288 Z\"\n",
    "              />\n",
    "            </svg> მთავარი\n",
    "          </a>\n",
    "        </li>\n",
    "      </ul>\n",
    "      <ul class=\"nav nav-pills  navbar-right\">\n",
    "        <li role=\"presentation\">\n",
    "          <a href=\"/employment_map_Georgia/\">🇬🇧 English </a>\n",
    "        </li>\n",
    "        <li role=\"presentation\" class=\"active\">\n",
    "          <a href=\"/employment_map_Georgia/ka/\">🇬🇪 ქართული</a>\n",
    "        </li>\n",
    "      </ul>\n",
    "    </div>\n",
    "  </nav>\n",
    "</div>\n",
    "\n",
    "\n",
    "\n",
    "  <div tabindex=\"-1\" id=\"notebook\" class=\"border-box-sizing\">\n",
    "    <div class=\"container\" id=\"notebook-container\">    \n",
    "{% endblock body_header %}\n",
    "\n",
    "{% block body_footer %}\n",
    "    </div>\n",
    "  </div>\n",
    "  <footer>\n",
    "    <div class=\"container\"\n",
    "         style=\"display:flex; flex-direction: row; justify-content: center; align-items: center;\">\n",
    "      <p style=\"margin: 3.7em auto;\"> © 2022\n",
    "        <a href=\"https://github.com/sentinel-1\" target=\"_blank\">Sentinel-1</a>\n",
    "      </p>\n",
    "      <!-- TOP.GE ASYNC COUNTER CODE -->\n",
    "      <div id=\"top-ge-counter-container\" data-site-id=\"116052\"\n",
    "           style=\"margin-right: 3.7em;float: right;\"></div>\n",
    "      <script async src=\"//counter.top.ge/counter.js\"></script>\n",
    "      <!-- / END OF TOP.GE COUNTER CODE -->\n",
    "      <!-- ANALYTICS.LAGOGAL.COM -->\n",
    "      <div id=\"analytics-lagogal-com-access\" data-site-id=\"20221\"\n",
    "           style=\"margin: 0;padding: 0;\"></div>\n",
    "      <script async src=\"//analytics.lagogal.com/access.js\"></script>\n",
    "      <!-- / END OF ANALYTICS.LAGOGAL.COM -->\n",
    "     </div>\n",
    "  </footer>\n",
    "</body>\n",
    "{% endblock body_footer %}"
   ]
  },
  {
   "cell_type": "markdown",
   "id": "4d3afa0f-2a1e-4b2a-aaaa-ee9d23ecc865",
   "metadata": {},
   "source": [
    "\n",
    "*მოცემული დოკუმენტი თავდაპირველად გამოქვეყნებულ იქნა Apache License (Version 2.0) ლიცენზიით შემდეგ GitHub რეპოზიტორზე: [sentinel-1/employment_map_Georgia](https://github.com/sentinel-1/employment_map_Georgia)*\n",
    "\n",
    "მოცემულ დოკუმენტის ორიგინალ ვერსიასთან დაკავშირებულ საკითხებზე შესაბამისი უკუკავშირისათვის, რჩევებისათვის ან შენიშვნებისთვის (თუ რამეა) შეგიძლიათ ახალი Issue-ს შექმნის გზით დააყენოთ საკითხი მისივე GitHub რეპოზიტორის შესაბამის გვერდზე: [Issues page of the repository](https://github.com/sentinel-1/employment_map_Georgia/issues)\n"
   ]
  }
 ],
 "metadata": {
  "kernelspec": {
   "display_name": "Python 3 (ipykernel)",
   "language": "python",
   "name": "python3"
  },
  "language_info": {
   "codemirror_mode": {
    "name": "ipython",
    "version": 3
   },
   "file_extension": ".py",
   "mimetype": "text/x-python",
   "name": "python",
   "nbconvert_exporter": "python",
   "pygments_lexer": "ipython3",
   "version": "3.9.2"
  }
 },
 "nbformat": 4,
 "nbformat_minor": 5
}
